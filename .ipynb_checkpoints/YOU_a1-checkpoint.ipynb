{
 "cells": [
  {
   "cell_type": "markdown",
   "metadata": {},
   "source": [
    "# A1"
   ]
  },
  {
   "cell_type": "code",
   "execution_count": 1,
   "metadata": {
    "code_folding": [
     0
    ]
   },
   "outputs": [],
   "source": [
    "# Standard imports\n",
    "import numpy as np\n",
    "import math\n",
    "import matplotlib.pylab as plt\n",
    "%matplotlib inline\n",
    "from scipy import integrate"
   ]
  },
  {
   "cell_type": "markdown",
   "metadata": {
    "heading_collapsed": true
   },
   "source": [
    "## Some supplied helper functions"
   ]
  },
  {
   "cell_type": "code",
   "execution_count": 2,
   "metadata": {
    "code_folding": [],
    "hidden": true
   },
   "outputs": [],
   "source": [
    "def PlotSpikeRaster(st, y_range=[0, 1.]):\n",
    "    '''\n",
    "    PlotSpikeRaster(spiketimes, y_range=[0, 1.])\n",
    "\n",
    "    Plots a spike raster plot for a list of arrays of spike times.\n",
    "\n",
    "    Input:\n",
    "      spiketimes is a list of arrays of spike times, like that returned\n",
    "          by the function Stim2Spikes.\n",
    "      y_range is a 2-tuple that holds the y-values that the raster ticks\n",
    "          should be drawn between\n",
    "    '''\n",
    "    N = len(st)  # number of neurons\n",
    "\n",
    "    #levels = np.linspace(y_range[0], y_range[1], N+1, endpoint=True)\n",
    "    #print(\"here yet\")\n",
    "    levels = np.linspace(y_range[1], y_range[0], N+1, endpoint=True)\n",
    "    for n in range(N):\n",
    "        nspikes = len(st[n])\n",
    "        #y = [ [levels[n]]*nspikes , [levels[n+1]]*nspikes ]\n",
    "        y = [ [levels[n+1]]*nspikes , [levels[n]]*nspikes ]\n",
    "        #y = y_range[0] + [levels[n]]*nspikes\n",
    "        plt.plot(np.vstack((st[n],st[n])), y, color=np.random.rand(3))\n",
    "    plt.ylim(y_range)\n",
    "    plt.xlabel('Time (s)')\n",
    "    return\n",
    "\n",
    "\n",
    "def GenerateSpikeTrain(rates, T, jitter=0.):\n",
    "    '''\n",
    "    spike_times = GenerateSpikeTrain(rates, T)\n",
    "    \n",
    "    Creates a spike train (as an array of time stamps).\n",
    "    \n",
    "    Input:\n",
    "    rates is an array or list of firing rates (in Hz), one\n",
    "        firing rate for each interval.\n",
    "    T is an array or list (the same size as 'rates') that gives\n",
    "        the time to end each interval\n",
    "    jitter is a scalar that determines how much the spikes\n",
    "        are randomly moved\n",
    "        \n",
    "    Output:\n",
    "    spike_times is an array of times when spikes occurred\n",
    "    \n",
    "    Example: To create a spike train of 10Hz for 0.5s, followed\n",
    "             by 25Hz that starts at 0.5s and ends at 2s, use\n",
    "             \n",
    "               GenerateSpikeTrain([10, 25], [0.5, 2])\n",
    "    '''\n",
    "    s = []\n",
    "    t = 0.\n",
    "    for idx in range(0,len(rates)):\n",
    "        Trange = T[idx] - t\n",
    "        if rates[idx]!=0:\n",
    "            delta = 1. / rates[idx]\n",
    "            N = rates[idx] * Trange\n",
    "            times = np.arange(t+delta/2., T[idx], delta)\n",
    "            times += np.random.normal(scale=delta*jitter, size=np.shape(times))\n",
    "            s.extend(times)\n",
    "        t = T[idx]\n",
    "    s.sort()\n",
    "    return np.array(s)\n",
    "\n",
    "\n",
    "class InputNeuron(object):\n",
    "    \n",
    "    def __init__(self, spiketrain):\n",
    "        '''\n",
    "        InputNeuron(spiketrain)\n",
    "        \n",
    "        Constructor for InputNeuron class.\n",
    "        \n",
    "        InputNeuron is a class of neuron that can be used to inject spikes into\n",
    "        the network. When involved in a simulation, an InputNeuron will generate\n",
    "        spikes at the times specified during its construction.\n",
    "        \n",
    "        Inputs:\n",
    "         spiketrain is an array or list of spike times\n",
    "        '''\n",
    "        self.spikes = np.array(spiketrain)\n",
    "\n",
    "    def SpikesBetween(self, t_start, t_end):\n",
    "        '''\n",
    "        numspikes = InputNeuron.SpikesBetween(t_start, t_end)\n",
    "        \n",
    "        Returns the number of times the neuron spiked between t_start and t_end.\n",
    "        Specifically, it counts a spike if it occurred at t, where\n",
    "        t_start <= t < t_end\n",
    "        '''\n",
    "        sp_bool = np.logical_and( np.array(self.spikes)>=t_start, np.array(self.spikes)<t_end )\n",
    "        return np.sum(sp_bool)\n",
    "    \n",
    "    def Slope(self):\n",
    "        return\n",
    "    \n",
    "    def Step(self, t, dt):\n",
    "        return"
   ]
  },
  {
   "cell_type": "markdown",
   "metadata": {},
   "source": [
    "# Q1: LIFNeuron Class"
   ]
  },
  {
   "cell_type": "markdown",
   "metadata": {},
   "source": [
    "## LIFNeuron class"
   ]
  },
  {
   "cell_type": "code",
   "execution_count": 73,
   "metadata": {
    "code_folding": []
   },
   "outputs": [],
   "source": [
    "class LIFNeuron(object):\n",
    "\n",
    "    def __init__(self, tau_m=0.02, tau_ref=0.002, tau_s=0.05):\n",
    "        '''\n",
    "        LIFNeuron(tau_m=0.02, tau_ref=0.002, tau_s=0.05)\n",
    "        \n",
    "        Constructor for LIFNeuron class\n",
    "        \n",
    "        Inputs:\n",
    "         tau_m   membrane time constant, in seconds (s)\n",
    "         tau_ref refractory period (s)\n",
    "         tau_s   synaptic time constant (s)\n",
    "        '''\n",
    "        self.tau_m = tau_m      # membrane time constant\n",
    "        self.tau_ref = tau_ref  # refractory period\n",
    "        self.tau_s = tau_s      # synaptic time constant\n",
    "        self.v = 0.             # sub-threshold membrane potential (voltage)\n",
    "        self.s = 0.             # post-synaptic current (PSC)\n",
    "        self.dvdt = 0.          # slope of v (w.r.t. time)\n",
    "        self.dsdt = 0.          # slope of s (w.r.t. time)\n",
    "        \n",
    "        self.weighted_incoming_spikes = 0.  # weighted sum of incoming spikes (for one time step)\n",
    "        self.ref_remaining = 0. # amount of time remaining in the refractory period\n",
    "        \n",
    "        # For plotting\n",
    "        self.v_history = []     # records v over time\n",
    "        self.spikes = []        # list of times when this neuron spiked\n",
    "        \n",
    "\n",
    "    def SpikesBetween(self, t_start, t_end):\n",
    "        '''\n",
    "        numspikes = LIFNeuron.SpikesBetween(t_start, t_end)\n",
    "        \n",
    "        Returns the number of times the neuron spiked between t_start and t_end.\n",
    "        Specifically, it counts a spike if it occurred at t, where\n",
    "        t_start <= t < t_end\n",
    "        '''\n",
    "        sp_bool = np.logical_and( np.array(self.spikes)>=t_start, np.array(self.spikes)<t_end )\n",
    "        return np.sum(sp_bool)\n",
    "    \n",
    "    \n",
    "    def Slope(self):\n",
    "        '''\n",
    "        LIFNeuron.Slope()\n",
    "        \n",
    "        Evaluates the right-hand side of the differential equations that\n",
    "        govern v and s. The slopes get stored in the internal variables\n",
    "          self.dvdt, and\n",
    "          self.dsdt\n",
    "        '''\n",
    "        #==== REPLACE THE CODE BELOW ====\n",
    "        self.dvdt = (self.s - self.v)/self.tau_m\n",
    "        self.dsdt = -self.s/self.tau_s\n",
    "        \n",
    "        \n",
    "    def Step(self, t, dt):\n",
    "        '''\n",
    "        LIFNeuron.Step(t, dt)\n",
    "        \n",
    "        Updates the LIF neuron state by taking an Euler step in v and s.\n",
    "        If v reaches the threshold of 1, the neuron fires an action potential\n",
    "        (spike). The spike time is appended to the list self.spikes, and v\n",
    "        is set to zero. After a spike, the neuron is dormant for self.tau_ref\n",
    "        seconds.\n",
    "        \n",
    "        If a spike occurs part-way through a time step, linear interpolation\n",
    "        is used to estimate the time that v hit the threshold of 1.\n",
    "        '''\n",
    "        \n",
    "        #==== PLACE YOUR CODE HERE ====\n",
    "        self.s += self.weighted_incoming_spikes/self.tau_s + dt*self.dsdt\n",
    "        if self.ref_remaining > 0:\n",
    "            self.v = 0\n",
    "            self.ref_remaining -= dt\n",
    "        else:\n",
    "            self.v += dt*self.dvdt\n",
    "        if self.v >= 1:\n",
    "            t2 = t+dt*(1-self.v_history[-1])/(self.v-self.v_history[-1])\n",
    "            self.spikes.append(t2)\n",
    "            self.ref_remaining = self.tau_ref-self.spikes[-1]+t\n",
    "            self.v = 1\n",
    "            \n",
    "        \n",
    "        self.v_history.append(self.v)\n",
    "        self.weighted_incoming_spikes = 0\n",
    "        \n",
    "        \n",
    "        \n",
    "    def ReceiveSpike(self, w):\n",
    "        '''\n",
    "        LIFNeuron.ReceiveSpike(w)\n",
    "        \n",
    "        Registers the arrival of a spike from a presynaptic neuron. The\n",
    "        member variable self.weighted_incoming_spikes keeps track of all\n",
    "        the incoming spikes, each weighted by their respective connection\n",
    "        weights. It is sufficient to add them all together to tabulate the\n",
    "        total incoming weighted spikes (from all presynaptic neurons).\n",
    "        \n",
    "        Input:\n",
    "         w    is the connection weight from the presynaptic neuron.\n",
    "        '''\n",
    "        self.weighted_incoming_spikes += w  # [1]\n",
    "        "
   ]
  },
  {
   "cell_type": "markdown",
   "metadata": {
    "heading_collapsed": true
   },
   "source": [
    "# Q2: SpikingNetwork Class"
   ]
  },
  {
   "cell_type": "markdown",
   "metadata": {
    "heading_collapsed": true,
    "hidden": true
   },
   "source": [
    "## SpikingNetwork Class"
   ]
  },
  {
   "cell_type": "code",
   "execution_count": 77,
   "metadata": {
    "hidden": true
   },
   "outputs": [],
   "source": [
    "class SpikingNetwork(object):\n",
    "    \n",
    "    def __init__(self):\n",
    "        '''\n",
    "        SpikingNetwork()\n",
    "        \n",
    "        Constructor for SpikingNetwork class.\n",
    "        \n",
    "        The SpikingNetwork class contains a collection of neurons,\n",
    "        and the connections between those neurons.\n",
    "        '''\n",
    "        self.neurons = []      # List of neurons (of various kinds)\n",
    "        self.connections = []  # List of connections\n",
    "        self.t_history = []    # List of time stamps for the Euler steps\n",
    "                               # (Useful for plotting)\n",
    "        \n",
    "        \n",
    "    def AddNeuron(self, neur):\n",
    "        '''\n",
    "        SpikingNetwork.AddNeuron(neuron)\n",
    "        \n",
    "        Adds a neuron to the network.\n",
    "        \n",
    "        Input:\n",
    "         neuron is an object of type LIFNeuron or InputNeuron\n",
    "        '''\n",
    "        self.neurons.append(neur)\n",
    "\n",
    "        \n",
    "    def Connect(self, pre, post, w):\n",
    "        '''\n",
    "        SpikingNetwork.Connect(pre, post, w)\n",
    "        \n",
    "        Connects neuron 'pre' to neuron 'post' with a connection\n",
    "        weigth of w.\n",
    "        \n",
    "        Each \"connection\" is a list of 3 numbers of the form:\n",
    "         [ pre_idx, post_idx, weight ]\n",
    "        where\n",
    "         pre_idx is the list index of the pre-synaptic neuron,\n",
    "         post_idx is the list index of the post-synaptic neuron, and\n",
    "         weight is the connection weight.\n",
    "        eg. self.connections = [[0,1,0.05], [1,2,0.04], [1,0,-0.2]]\n",
    "        '''\n",
    "        self.connections.append([pre, post, w])\n",
    "     \n",
    "    \n",
    "    def Simulate(self, T, dt=0.001):\n",
    "        '''\n",
    "        SpikingNetwork.Simulate(T, dt=0.001)\n",
    "        \n",
    "        Simulates the network for T seconds by taking Euler steps\n",
    "        of size dt.\n",
    "        \n",
    "        Inputs:\n",
    "         T    how long to integrate for\n",
    "         dt   time step for Euler's method\n",
    "        '''\n",
    "        # This code takes care of recording time samples in a way\n",
    "        # that allows continuation. You needn't fuss over this code.\n",
    "        current = 0 if len(self.t_history)==0 else self.t_history[-1]\n",
    "        t_segment = np.arange(current, current+T, dt)\n",
    "        \n",
    "        #==== HERE IS WHERE YOUR CODE STARTS ====\n",
    "        \n",
    "        # Loop over time steps (I've set that up for you)\n",
    "        for tt in t_segment:\n",
    "            self.t_history.append(tt)  # Record time stamp\n",
    "            for neuron in self.neurons:\n",
    "                neuron.Slope()\n",
    "            for neuron in self.neurons:\n",
    "                neuron.Step(tt, dt)\n",
    "            for (pre, post, w) in self.connections:\n",
    "                self.neurons[post].ReceiveSpike(w*self.neurons[pre].SpikesBetween(tt, tt + dt))\n",
    "            \n",
    "            \n",
    "        #==== PLACE YOUR CODE HERE ====\n",
    "        \n",
    "        \n",
    "\n",
    "        \n",
    "        \n",
    "    def AllSpikeTimes(self):\n",
    "        '''\n",
    "        SpikingNetwork.AllSpikeTimes()\n",
    "        \n",
    "        Returns all the spikes of all the neurons in the network.\n",
    "        Useful for making spike-raster plots of network activity.\n",
    "        \n",
    "        Output:\n",
    "         all_spikes  a list of sublists, where each sublist holds\n",
    "                     the spike times of one of the neurons\n",
    "        '''\n",
    "        blah = []\n",
    "        for neur in self.neurons:\n",
    "            blah.append(np.array(neur.spikes))\n",
    "        return blah"
   ]
  },
  {
   "cell_type": "markdown",
   "metadata": {
    "heading_collapsed": true
   },
   "source": [
    "# Q3: Experiments with Spiking Networks"
   ]
  },
  {
   "cell_type": "markdown",
   "metadata": {
    "hidden": true
   },
   "source": [
    "## (a) One LIF Neuron"
   ]
  },
  {
   "cell_type": "code",
   "execution_count": 78,
   "metadata": {
    "hidden": true
   },
   "outputs": [],
   "source": [
    "\n",
    "net = SpikingNetwork()\n",
    "net.AddNeuron(LIFNeuron(tau_s=0.1))  # Neuron 0\n",
    "net.AddNeuron(InputNeuron( GenerateSpikeTrain([30], [1])))  # Neuron 1\n",
    "net.Connect(1, 0, 0.05)  # Connect from neuron 1 to neuron 0\n",
    "\n",
    "net.Simulate(1, 0.001)\n"
   ]
  },
  {
   "cell_type": "code",
   "execution_count": 79,
   "metadata": {
    "hidden": true
   },
   "outputs": [
    {
     "data": {
      "image/png": "[encoded data removed]",
      "text/plain": [
       "<Figure size 432x288 with 1 Axes>"
      ]
     },
     "metadata": {
      "needs_background": "light"
     },
     "output_type": "display_data"
    }
   ],
   "source": [
    "# i.\n",
    "plt.plot(net.t_history, net.neurons[0].v_history)\n",
    "plt.xlabel(\"timestep(s)\")\n",
    "plt.ylabel(\"membrane potential(v)\")\n",
    "plt.show()"
   ]
  },
  {
   "cell_type": "code",
   "execution_count": 80,
   "metadata": {
    "hidden": true
   },
   "outputs": [
    {
     "data": {
      "image/png": "[encoded data removed]",
      "text/plain": [
       "<Figure size 432x288 with 1 Axes>"
      ]
     },
     "metadata": {
      "needs_background": "light"
     },
     "output_type": "display_data"
    }
   ],
   "source": [
    "# ii.\n",
    "PlotSpikeRaster([net.neurons[0].spikes, net.neurons[1].spikes])\n"
   ]
  },
  {
   "cell_type": "markdown",
   "metadata": {
    "hidden": true
   },
   "source": [
    "## (b) LIF Firing Rate Curve"
   ]
  },
  {
   "cell_type": "code",
   "execution_count": 81,
   "metadata": {
    "hidden": true
   },
   "outputs": [
    {
     "data": {
      "image/png": "[encoded data removed]",
      "text/plain": [
       "<Figure size 432x288 with 1 Axes>"
      ]
     },
     "metadata": {
      "needs_background": "light"
     },
     "output_type": "display_data"
    }
   ],
   "source": [
    "# i.\n",
    "net = SpikingNetwork()\n",
    "net.AddNeuron(LIFNeuron(tau_s=0.1))  # Neuron 0\n",
    "net.AddNeuron(InputNeuron(GenerateSpikeTrain([5,10,15,20,25,30,35,40,45,50,55,60,65,70,75,80,85,90,95,100], [2,4,6,8,10,12,14,16,18,20,22,24,26,28,30,32,34,36,38,40])))  # Neuron 1\n",
    "net.Connect(1, 0, 0.03)  # Connect from neuron 1 to neuron 0\n",
    "\n",
    "net.Simulate(40, 0.001)\n",
    "plt.plot(net.t_history, net.neurons[0].v_history)\n",
    "plt.xlabel(\"timestep(s)\")\n",
    "plt.ylabel(\"membrane potential(v)\")\n",
    "plt.show()"
   ]
  },
  {
   "cell_type": "code",
   "execution_count": 82,
   "metadata": {
    "hidden": true
   },
   "outputs": [
    {
     "name": "stdout",
     "output_type": "stream",
     "text": [
      "Between time 0s and 2s, number of spikes: 0\n",
      "Between time 2s and 4s, number of spikes: 0\n",
      "Between time 4s and 6s, number of spikes: 0\n",
      "Between time 6s and 8s, number of spikes: 0\n",
      "Between time 8s and 10s, number of spikes: 0\n",
      "Between time 10s and 12s, number of spikes: 0\n",
      "Between time 12s and 14s, number of spikes: 30\n",
      "Between time 14s and 16s, number of spikes: 52\n",
      "Between time 16s and 18s, number of spikes: 72\n",
      "Between time 18s and 20s, number of spikes: 85\n",
      "Between time 20s and 22s, number of spikes: 96\n",
      "Between time 22s and 24s, number of spikes: 109\n",
      "Between time 24s and 26s, number of spikes: 122\n",
      "Between time 26s and 28s, number of spikes: 133\n",
      "Between time 28s and 30s, number of spikes: 144\n",
      "Between time 30s and 32s, number of spikes: 153\n",
      "Between time 32s and 34s, number of spikes: 166\n",
      "Between time 34s and 36s, number of spikes: 178\n",
      "Between time 36s and 38s, number of spikes: 182\n",
      "Between time 38s and 40s, number of spikes: 197\n"
     ]
    }
   ],
   "source": [
    "# ii.\n",
    "LIFspikesarr = []\n",
    "for t in range(0,39,2):\n",
    "    numspikes = net.neurons[0].SpikesBetween(t, t+2)\n",
    "    LIFspikesarr.append(numspikes)\n",
    "    print(\"Between time \" + str(t) + \"s and \" + str(t+2) + \"s, number of spikes: \" + str(numspikes))\n"
   ]
  },
  {
   "cell_type": "code",
   "execution_count": 83,
   "metadata": {
    "hidden": true
   },
   "outputs": [
    {
     "data": {
      "image/png": "[encoded data removed]",
      "text/plain": [
       "<Figure size 432x288 with 1 Axes>"
      ]
     },
     "metadata": {
      "needs_background": "light"
     },
     "output_type": "display_data"
    }
   ],
   "source": [
    "# iii.\n",
    "plt.plot(range(5, 101, 5), LIFspikesarr, '.')\n",
    "plt.xlabel(\"InputNeuron FiringRate(Hz)\")\n",
    "plt.ylabel(\"LIFNeuron FiringRate(Hz)\")\n",
    "plt.show()\n"
   ]
  },
  {
   "cell_type": "markdown",
   "metadata": {
    "hidden": true
   },
   "source": [
    "## (c) Two LIF Neurons"
   ]
  },
  {
   "cell_type": "code",
   "execution_count": 112,
   "metadata": {
    "hidden": true
   },
   "outputs": [],
   "source": [
    "# i.\n",
    "net = SpikingNetwork()\n",
    "net.AddNeuron(LIFNeuron(tau_s=0.05))  # Neuron 0\n",
    "net.AddNeuron(LIFNeuron(tau_s=0.05))  # Neuron 1\n",
    "net.AddNeuron(InputNeuron(GenerateSpikeTrain([30], [0.3])))  # Neuron 2\n",
    "net.Connect(1, 0, 0.05)  # Connect from neuron 1 to neuron 0\n",
    "net.Connect(0, 1, 0.05)  # Connect from neuron 0 to neuron 1\n",
    "net.Connect(2, 0, 0.05)  # Connect from neuron 2 to neuron 0"
   ]
  },
  {
   "cell_type": "code",
   "execution_count": 113,
   "metadata": {
    "hidden": true
   },
   "outputs": [
    {
     "data": {
      "image/png": "[encoded data removed]",
      "text/plain": [
       "<Figure size 432x288 with 1 Axes>"
      ]
     },
     "metadata": {
      "needs_background": "light"
     },
     "output_type": "display_data"
    }
   ],
   "source": [
    "# ii.\n",
    "net.Simulate(1, 0.001)\n",
    "PlotSpikeRaster([net.neurons[0].spikes, net.neurons[1].spikes, net.neurons[2].spikes])"
   ]
  },
  {
   "cell_type": "markdown",
   "metadata": {
    "hidden": true
   },
   "source": [
    "## (d) Three LIF Neurons: Inhibition"
   ]
  },
  {
   "cell_type": "code",
   "execution_count": 114,
   "metadata": {
    "hidden": true
   },
   "outputs": [],
   "source": [
    "# i.\n",
    "net = SpikingNetwork()\n",
    "net.AddNeuron(LIFNeuron(tau_s=0.05))  # Neuron 0\n",
    "net.AddNeuron(LIFNeuron(tau_s=0.05))  # Neuron 1\n",
    "net.AddNeuron(LIFNeuron(tau_s=0.05))  # Neuron 2(C)\n",
    "net.AddNeuron(InputNeuron(GenerateSpikeTrain([30], [0.3])))  # Input Neuron 1\n",
    "net.AddNeuron(InputNeuron(GenerateSpikeTrain([0, 50], [0.7, 1.])))  # Input Neuron 2\n",
    "net.Connect(1, 0, 0.05)  # Connect from neuron 1 to neuron 0\n",
    "net.Connect(0, 1, 0.05)  # Connect from neuron 0 to neuron 1\n",
    "net.Connect(2, 1, -0.2)  # Connect from neuron 2 to neuron 1\n",
    "net.Connect(3, 0, 0.05)  # Connect from neuron 3 to neuron 0\n",
    "net.Connect(4, 2, 0.05)  # Connect from neuron 4 to neuron 2"
   ]
  },
  {
   "cell_type": "code",
   "execution_count": 115,
   "metadata": {
    "hidden": true
   },
   "outputs": [
    {
     "data": {
      "image/png": "[encoded data removed]",
      "text/plain": [
       "<Figure size 432x288 with 1 Axes>"
      ]
     },
     "metadata": {
      "needs_background": "light"
     },
     "output_type": "display_data"
    }
   ],
   "source": [
    "# ii.\n",
    "net.Simulate(1, 0.001)\n",
    "PlotSpikeRaster([net.neurons[0].spikes, net.neurons[1].spikes, net.neurons[2].spikes, net.neurons[3].spikes, net.neurons[4].spikes])\n"
   ]
  },
  {
   "cell_type": "markdown",
   "metadata": {
    "hidden": true
   },
   "source": [
    "### iii."
   ]
  },
  {
   "cell_type": "markdown",
   "metadata": {
    "hidden": true
   },
   "source": [
    "Your answer here.\n",
    "When neuron A reaches 0.8-0.9 and neuron B reaches 0.7-0.8, they spiked more slowly and eventualy stopped spiking before 0.9(A) and 0.8(B). Because the new negative connection weight neuron spiked after 0.7s and it instantly affected neuron B and then affected neuron A. And when B stopped spiking and A was still processing the incoming spikes, which means A must spike longer than B.\n",
    "(double-click)"
   ]
  },
  {
   "cell_type": "markdown",
   "metadata": {
    "hidden": true
   },
   "source": [
    "## (e) Ring Oscillator"
   ]
  },
  {
   "cell_type": "code",
   "execution_count": 119,
   "metadata": {
    "hidden": true
   },
   "outputs": [],
   "source": [
    "# i.\n",
    "net = SpikingNetwork()\n",
    "net.AddNeuron(LIFNeuron(tau_m=0.05, tau_s=0.1))  # Neuron A\n",
    "net.AddNeuron(LIFNeuron(tau_m=0.05, tau_s=0.1))  # Neuron B\n",
    "net.AddNeuron(LIFNeuron(tau_m=0.05, tau_s=0.1))  # Neuron C\n",
    "net.AddNeuron(LIFNeuron(tau_m=0.05, tau_s=0.1))  # Neuron D\n",
    "net.AddNeuron(LIFNeuron(tau_m=0.05, tau_s=0.1))  # Neuron E\n",
    "net.AddNeuron(LIFNeuron(tau_m=0.05, tau_s=0.1))  # Neuron F\n",
    "net.AddNeuron(LIFNeuron(tau_m=0.05, tau_s=0.1))  # Neuron G\n",
    "net.AddNeuron(LIFNeuron(tau_m=0.05, tau_s=0.1))  # Neuron H\n",
    "net.Connect(0, 1, 0.2)  # Connect from neuron A to neuron B\n",
    "net.Connect(1, 2, 0.2)  # Connect from neuron B to neuron C\n",
    "net.Connect(2, 3, 0.2)  # Connect from neuron C to neuron D\n",
    "net.Connect(3, 4, 0.2)  # Connect from neuron D to neuron E\n",
    "net.Connect(4, 5, 0.2)  # Connect from neuron E to neuron F\n",
    "net.Connect(5, 6, 0.2)  # Connect from neuron F to neuron G\n",
    "net.Connect(6, 7, 0.2)  # Connect from neuron G to neuron H\n",
    "net.Connect(7, 0, 0.2)  # Connect from neuron H to neuron A\n"
   ]
  },
  {
   "cell_type": "code",
   "execution_count": 120,
   "metadata": {
    "hidden": true
   },
   "outputs": [],
   "source": [
    "# ii.\n",
    "net.Connect(1, 0, -0.4)  # Connect from neuron A to neuron B\n",
    "net.Connect(2, 1, -0.4)  # Connect from neuron B to neuron C\n",
    "net.Connect(3, 2, -0.4)  # Connect from neuron C to neuron D\n",
    "net.Connect(4, 3, -0.4)  # Connect from neuron D to neuron E\n",
    "net.Connect(5, 4, -0.4)  # Connect from neuron E to neuron F\n",
    "net.Connect(6, 5, -0.4)  # Connect from neuron F to neuron G\n",
    "net.Connect(7, 6, -0.4)  # Connect from neuron G to neuron H\n",
    "net.Connect(0, 7, -0.4)  # Connect from neuron H to neuron A"
   ]
  },
  {
   "cell_type": "code",
   "execution_count": 121,
   "metadata": {
    "hidden": true
   },
   "outputs": [],
   "source": [
    "# iii.\n",
    "net.AddNeuron(InputNeuron(GenerateSpikeTrain([25], [0.3])))  # Input Neuron\n",
    "net.Connect(8, 0, 0.2)\n"
   ]
  },
  {
   "cell_type": "code",
   "execution_count": 122,
   "metadata": {
    "hidden": true
   },
   "outputs": [
    {
     "data": {
      "image/png": "[encoded data removed]",
      "text/plain": [
       "<Figure size 432x288 with 1 Axes>"
      ]
     },
     "metadata": {
      "needs_background": "light"
     },
     "output_type": "display_data"
    }
   ],
   "source": [
    "# iv.\n",
    "net.Simulate(4, 0.001)\n",
    "PlotSpikeRaster([net.neurons[0].spikes, net.neurons[1].spikes, net.neurons[2].spikes, net.neurons[3].spikes, net.neurons[4].spikes, net.neurons[5].spikes, net.neurons[6].spikes, net.neurons[7].spikes, net.neurons[8].spikes])\n"
   ]
  },
  {
   "cell_type": "markdown",
   "metadata": {
    "heading_collapsed": true
   },
   "source": [
    "# Q4: Neural Activation Functions"
   ]
  },
  {
   "cell_type": "markdown",
   "metadata": {
    "hidden": true
   },
   "source": [
    "## (a) ReLU derivative"
   ]
  },
  {
   "cell_type": "markdown",
   "metadata": {
    "hidden": true
   },
   "source": [
    "$$\n",
    "f(x) =   \n",
    "if (x <= 0): f(x) = 0;   \n",
    "else: f(x) = 1; \n",
    "$$"
   ]
  },
  {
   "cell_type": "markdown",
   "metadata": {
    "hidden": true
   },
   "source": [
    "## (b.i) Logistic"
   ]
  },
  {
   "cell_type": "code",
   "execution_count": 128,
   "metadata": {
    "hidden": true
   },
   "outputs": [
    {
     "data": {
      "image/png": "[encoded data removed]",
      "text/plain": [
       "<Figure size 432x288 with 1 Axes>"
      ]
     },
     "metadata": {
      "needs_background": "light"
     },
     "output_type": "display_data"
    }
   ],
   "source": [
    "# i.\n",
    "ax = plt.subplot(111)\n",
    "z = np.arange(-6, 6, 0.01)\n",
    "sigma = 1/(1 + np.exp(-z))\n",
    "line, = plt.plot(z, sigma, lw=2)\n",
    "plt.xlabel(\"z\")\n",
    "plt.ylabel(\"sigma(z)\")\n",
    "plt.show()"
   ]
  },
  {
   "cell_type": "markdown",
   "metadata": {
    "hidden": true
   },
   "source": [
    "When z==0, the gradient is maximized, and when z keeps increasing from 0 to positive infinity or decreasing from 0 to negative infinity, its derivative approaches 0."
   ]
  },
  {
   "cell_type": "markdown",
   "metadata": {
    "hidden": true
   },
   "source": [
    "## (b.ii) tanh"
   ]
  },
  {
   "cell_type": "code",
   "execution_count": 133,
   "metadata": {
    "hidden": true
   },
   "outputs": [
    {
     "data": {
      "image/png": "[encoded data removed]",
      "text/plain": [
       "<Figure size 432x288 with 1 Axes>"
      ]
     },
     "metadata": {
      "needs_background": "light"
     },
     "output_type": "display_data"
    }
   ],
   "source": [
    "# ii.\n",
    "x = np.linspace(-6, 6)\n",
    "plt.plot(x, np.arctan(x))\n",
    "plt.axis('tight')\n",
    "plt.xlabel(\"z\")\n",
    "plt.ylabel(\"arctan(z)\")\n",
    "plt.show()"
   ]
  },
  {
   "cell_type": "markdown",
   "metadata": {
    "hidden": true
   },
   "source": [
    "When z==0, the gradient is maximized, and when z keeps increasing from 0 to positive infinity or decreasing from 0 to negative infinity, its derivative approaches 0."
   ]
  },
  {
   "cell_type": "markdown",
   "metadata": {
    "hidden": true
   },
   "source": [
    "## (b.iii) ReLU"
   ]
  },
  {
   "cell_type": "code",
   "execution_count": 144,
   "metadata": {
    "hidden": true
   },
   "outputs": [
    {
     "data": {
      "image/png": "[encoded data removed]",
      "text/plain": [
       "<Figure size 432x288 with 1 Axes>"
      ]
     },
     "metadata": {
      "needs_background": "light"
     },
     "output_type": "display_data"
    }
   ],
   "source": [
    "# iii.\n",
    "#learned from\n",
    "z = np.arange(-6, 6, 0.01)\n",
    "zero = np.zeros(len(z))\n",
    "ReLU = np.max([zero, z], axis=0)\n",
    "\n",
    "figure = plt.figure()\n",
    "plot = figure.add_subplot(111)\n",
    "plot.plot(z, ReLU)\n",
    "plot.set_xlim([-6.0, 6.0])\n",
    "plot.set_ylim([-6.0, 6.0])\n",
    "plot.grid(True)\n",
    "plot.set_xlabel(\"z\")\n",
    "plot.set_ylabel(\"ReLU(z)\")\n",
    "plt.show()"
   ]
  },
  {
   "cell_type": "markdown",
   "metadata": {
    "hidden": true
   },
   "source": [
    "When z <= 0, derivative = 0, when z > 0, gradient is maximized."
   ]
  },
  {
   "cell_type": "markdown",
   "metadata": {
    "hidden": true
   },
   "source": [
    "## (c.i) Derivative of f with respect to x"
   ]
  },
  {
   "cell_type": "markdown",
   "metadata": {
    "hidden": true
   },
   "source": [
    "w*f'(wx+b) "
   ]
  },
  {
   "cell_type": "markdown",
   "metadata": {
    "hidden": true
   },
   "source": [
    "## (c.ii) Derivative of f with respect to W"
   ]
  },
  {
   "cell_type": "markdown",
   "metadata": {
    "hidden": true
   },
   "source": [
    "x*f'(wx+b)"
   ]
  },
  {
   "cell_type": "markdown",
   "metadata": {
    "hidden": true
   },
   "source": [
    "## (c.ii) Derivative of f with respect to b"
   ]
  },
  {
   "cell_type": "markdown",
   "metadata": {
    "hidden": true
   },
   "source": [
    "f'(wx+b)"
   ]
  }
 ],
 "metadata": {
  "kernelspec": {
   "display_name": "Python 3",
   "language": "python",
   "name": "python3"
  },
  "language_info": {
   "codemirror_mode": {
    "name": "ipython",
    "version": 3
   },
   "file_extension": ".py",
   "mimetype": "text/x-python",
   "name": "python",
   "nbconvert_exporter": "python",
   "pygments_lexer": "ipython3",
   "version": "3.7.1"
  }
 },
 "nbformat": 4,
 "nbformat_minor": 2
}
