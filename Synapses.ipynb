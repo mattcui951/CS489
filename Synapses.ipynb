{
 "cells": [
  {
   "cell_type": "markdown",
   "metadata": {},
   "source": [
    "# Synapses"
   ]
  },
  {
   "cell_type": "markdown",
   "metadata": {
    "collapsed": true
   },
   "source": [
    "- Synaptic filter\n",
    "- PSC after 1 spike\n",
    "- PSC after many spikes\n",
    "- PSC during constant firing"
   ]
  },
  {
   "cell_type": "code",
   "execution_count": 27,
   "metadata": {
    "code_folding": [
     0
    ],
    "collapsed": true
   },
   "outputs": [],
   "source": [
    "# Set up the path so it can find my modules\n",
    "import os\n",
    "import sys\n",
    "if os.name=='nt':\n",
    "    sys.path.append('C:\\\\Users\\\\jorch\\\\Dropbox\\\\teaching\\\\cs489_neural_nets\\\\lib')\n",
    "else:\n",
    "    sys.path.append('/Users/jorchard/Dropbox/teaching/cs489_neural_nets/lib')"
   ]
  },
  {
   "cell_type": "code",
   "execution_count": 33,
   "metadata": {
    "code_folding": [],
    "collapsed": true
   },
   "outputs": [],
   "source": [
    "# Standard imports\n",
    "import numpy as np\n",
    "import matplotlib.pylab as plt\n",
    "import jonef\n",
    "#%matplotlib notebook\n",
    "%matplotlib inline"
   ]
  },
  {
   "cell_type": "markdown",
   "metadata": {},
   "source": [
    "## Synaptic Filter"
   ]
  },
  {
   "cell_type": "code",
   "execution_count": 34,
   "metadata": {
    "collapsed": true
   },
   "outputs": [],
   "source": [
    "def SynapticFilter(t, offset=0., tau_s=0.05, n=0):\n",
    "    if t<offset:\n",
    "        return 0.\n",
    "    else:\n",
    "        return (t-offset)**n*np.exp(-(t-offset)/tau_s)"
   ]
  },
  {
   "cell_type": "code",
   "execution_count": 35,
   "metadata": {},
   "outputs": [
    {
     "data": {
      "text/plain": [
       "<matplotlib.figure.Figure at 0x228cdc61470>"
      ]
     },
     "metadata": {},
     "output_type": "display_data"
    },
    {
     "data": {
      "text/plain": [
       "(<matplotlib.figure.Figure at 0x228cdc61470>, None)"
      ]
     },
     "execution_count": 35,
     "metadata": {},
     "output_type": "execute_result"
    }
   ],
   "source": [
    "plt.figure(1), plt.show()"
   ]
  },
  {
   "cell_type": "code",
   "execution_count": 37,
   "metadata": {},
   "outputs": [
    {
     "data": {
      "image/png": "[encoded data removed]",
      "text/plain": [
       "<matplotlib.figure.Figure at 0x228cdc4ccc0>"
      ]
     },
     "metadata": {},
     "output_type": "display_data"
    }
   ],
   "source": [
    "# Try tau_s values of 0.005, 0.03, 0.1\n",
    "tau_s = 0.0150\n",
    "t = np.linspace(0, 1, 1000)\n",
    "dt = t[1]-t[0]\n",
    "s = np.array([SynapticFilter(tt, tau_s=tau_s, offset=0.0, n=1) for tt in t])\n",
    "s = s / sum(s) / dt\n",
    "plt.figure(1)\n",
    "plt.plot(t,s), plt.xlabel('Time (s)'), plt.ylabel('PSC');"
   ]
  },
  {
   "cell_type": "markdown",
   "metadata": {},
   "source": [
    "## One Spike"
   ]
  },
  {
   "cell_type": "code",
   "execution_count": 38,
   "metadata": {
    "code_folding": [],
    "collapsed": true
   },
   "outputs": [],
   "source": [
    "def DemoSpikeTrain(P, T):\n",
    "    if P==1:\n",
    "        A = np.random.rand(1)*T/2\n",
    "    elif P<50:\n",
    "        A = np.random.rand(P)*T\n",
    "    else:\n",
    "        A = np.linspace(0.0, T, P)\n",
    "    return A"
   ]
  },
  {
   "cell_type": "code",
   "execution_count": 39,
   "metadata": {
    "collapsed": true
   },
   "outputs": [],
   "source": [
    "T = 1\n",
    "dt = 0.001\n",
    "t2 = np.arange(0.0, T, dt)"
   ]
  },
  {
   "cell_type": "code",
   "execution_count": 40,
   "metadata": {},
   "outputs": [
    {
     "data": {
      "image/png": "[encoded data removed]",
      "text/plain": [
       "<matplotlib.figure.Figure at 0x228cda18ba8>"
      ]
     },
     "metadata": {},
     "output_type": "display_data"
    }
   ],
   "source": [
    "P = 1   # Number of spikes, try 1 to 50, or over 50\n",
    "A = DemoSpikeTrain(P, T)\n",
    "p2 = jonef.Spikes2PSC(t2, A, 0.02, 1)\n",
    "%matplotlib inline\n",
    "plt.figure()\n",
    "plt.plot(t2,p2,'b'), plt.xlabel('Time (s)'), plt.ylabel('Post-Synaptic Current')\n",
    "jonef.PlotSpikeRaster([A], y_range=[0, 80]), plt.axis('auto');"
   ]
  },
  {
   "cell_type": "markdown",
   "metadata": {},
   "source": [
    "## Many Spikes"
   ]
  },
  {
   "cell_type": "code",
   "execution_count": 42,
   "metadata": {},
   "outputs": [
    {
     "data": {
      "image/png": "[encoded data removed]",
      "text/plain": [
       "<matplotlib.figure.Figure at 0x228cdb4d9e8>"
      ]
     },
     "metadata": {},
     "output_type": "display_data"
    }
   ],
   "source": [
    "P=10   # Number of spikes, try 1 to 50, or over 50\n",
    "A = DemoSpikeTrain(P, T)\n",
    "p2 = jonef.Spikes2PSC(t2, A, 0.1, 1) # try changing tau_s (0.01, or 0.1)\n",
    "plt.figure()\n",
    "plt.plot(t2,p2,'b'), plt.xlabel('Time (s)'), plt.ylabel('Post-Synaptic Current')\n",
    "jonef.PlotSpikeRaster([A], y_range=[0, 80]), plt.axis('auto');"
   ]
  },
  {
   "cell_type": "markdown",
   "metadata": {},
   "source": [
    "## Constant Firing"
   ]
  },
  {
   "cell_type": "code",
   "execution_count": 46,
   "metadata": {},
   "outputs": [
    {
     "data": {
      "image/png": "[encoded data removed]",
      "text/plain": [
       "<matplotlib.figure.Figure at 0x228cdba4fd0>"
      ]
     },
     "metadata": {},
     "output_type": "display_data"
    }
   ],
   "source": [
    "P=80   # Number of spikes, try 1 to 50, or over 50\n",
    "A = DemoSpikeTrain(P, T)\n",
    "p2 = jonef.Spikes2PSC(t2, A, 0.05, 1)\n",
    "plt.figure()\n",
    "plt.plot(t2,p2,'b'), plt.xlabel('Time (s)'), plt.ylabel('Post-Synaptic Current')\n",
    "jonef.PlotSpikeRaster([A], y_range=[0, 80]), plt.axis('auto');"
   ]
  },
  {
   "cell_type": "code",
   "execution_count": null,
   "metadata": {
    "collapsed": true
   },
   "outputs": [],
   "source": []
  }
 ],
 "metadata": {
  "kernelspec": {
   "display_name": "Python 3",
   "language": "python",
   "name": "python3"
  },
  "language_info": {
   "codemirror_mode": {
    "name": "ipython",
    "version": 3
   },
   "file_extension": ".py",
   "mimetype": "text/x-python",
   "name": "python",
   "nbconvert_exporter": "python",
   "pygments_lexer": "ipython3",
   "version": "3.6.3"
  },
  "toc": {
   "nav_menu": {},
   "number_sections": true,
   "sideBar": true,
   "skip_h1_title": false,
   "title_cell": "Table of Contents",
   "title_sidebar": "Contents",
   "toc_cell": false,
   "toc_position": {},
   "toc_section_display": true,
   "toc_window_display": false
  }
 },
 "nbformat": 4,
 "nbformat_minor": 2
}
