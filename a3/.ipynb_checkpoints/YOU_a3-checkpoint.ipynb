{
 "cells": [
  {
   "cell_type": "markdown",
   "metadata": {},
   "source": [
    "# A3"
   ]
  },
  {
   "cell_type": "code",
   "execution_count": 2,
   "metadata": {
    "code_folding": [
     0
    ]
   },
   "outputs": [],
   "source": [
    "# Standard imports\n",
    "import numpy as np\n",
    "import matplotlib.pylab as plt\n",
    "%matplotlib inline\n",
    "import Network as Network\n",
    "import copy"
   ]
  },
  {
   "cell_type": "markdown",
   "metadata": {
    "heading_collapsed": true
   },
   "source": [
    "# Q1: Vanishing Gradient"
   ]
  },
  {
   "cell_type": "markdown",
   "metadata": {
    "hidden": true
   },
   "source": [
    "## (a)"
   ]
  },
  {
   "cell_type": "markdown",
   "metadata": {
    "hidden": true
   },
   "source": [
    "\n",
    "We know that logistic function's derivative:\n",
    "\n",
    "$$\n",
    "\\begin{equation}\n",
    "\\sigma' = \\sigma(z)(1-\\sigma(z))\n",
    "\\end{equation}\n",
    "$$\n",
    "Then\n",
    "$$\n",
    "\\begin{equation}\n",
    "|w\\sigma'(wh + b)| \\geq 1 \\\\\n",
    "|w (\\frac {1} {1 + e^{-wh-b}}(1 - \\frac {1} {(1 + e^{-wh-b})}))| \\geq 1\\\\\n",
    "|w(\\frac {1} {1 + e^{-wh-b}}) (-\\frac {e^{-wh-b}} {1+e^{-wh-b}})| \\geq 1\\\\\n",
    "|w\\frac {e^{-wh-b}} {(1+e^{-wh-b})^2}| \\geq 1\\\\\n",
    "let\\ x = -wh-b\\\\\n",
    "|w\\frac {e^{x}} {(1+e^{x})^2}| \\geq 1\\\\\n",
    "\\end{equation}\n",
    "$$\n",
    "let's look at f and try to find its maximum.value:\n",
    "$$\n",
    "\\begin{equation}\n",
    "f(x) = \\frac {e^{x}} {(1+e^{x})^2}\\\\\n",
    "f'(x) = e^{x}(\\frac {{e^{x}(1+e^{x})^2 - e^{x}(2e^{2x} +2e^{x}))}} {(1+e^{x})^4})\\\\\n",
    "let\\ f'(x) = 0\\\\\n",
    "then\\\\\n",
    "e^{x}(\\frac {{e^{x}(1+e^{x})^2 - e^{x}(2e^{2x} +2e^{x}))}} {(1+e^{x})^4}) = 0\\\\\n",
    "Obviously\\ the\\ first\\ solution\\ will\\ be\\ x=-\\infty\\ so\\ that\\ e^x = 0\\\\\n",
    "And\\ the\\ second\\ solution\\ will\\ be\\ x=+\\infty\\ so\\ that\\ second\\ term\\ will\\ be\\ divided\\ by\\ infinity\\ to\\ make\\ f'=0\\\\ \n",
    "then\\ the\\ third\\ solution\\ will\\ be\\ the\\ x\\ value\\ to\\ make\\ e^{x}(1+e^{x})^2 - e^{x}(2e^{2x} +2e^{x}))=0\\\\\n",
    "1+2e^{x} + e^{2x} - 2e^{3x} - 2e^{2x}=0\\\\\n",
    "x = 0\\ is\\ an\\ solution,\\\n",
    "so\\ that\\ the\\ maximum\\ value\\ of\\ f\\ is\\ \\frac {1} {(1+1)^2}\\\\\n",
    "Then\\ |w\\frac 1 4| \\geq 1\\\\\n",
    "We\\ can\\ simply\\ observe\\ that\\ |w| \\geq 4\\ to\\ make\\ it\\ work\\\\\n",
    "\\end{equation}\n",
    "$$\n"
   ]
  },
  {
   "cell_type": "markdown",
   "metadata": {
    "hidden": true
   },
   "source": [
    "## (b)"
   ]
  },
  {
   "cell_type": "markdown",
   "metadata": {
    "hidden": true
   },
   "source": [
    "We got from (a):\n",
    "$$\n",
    "\\begin{equation}\n",
    "|w\\frac {e^{x}} {(1+e^{x})^2}| \\geq 1\\\\\n",
    "|w\\frac {e^{-wh-b}} {(1+e^{-wh-b})^2}| \\geq 1\\\\\n",
    "|w\\frac {1} {e^{wh+b}}| \\geq (1 + \\frac {1} {e^{wh+b}})^2\\\\\n",
    "|w\\frac {1} {e^{wh+b}}| \\geq (\\frac {1+e^{wh+b}} {e^{wh+b}})^2\\\\\n",
    "Multiplied\\ by\\ (e^{wh+b})^2\\ on\\ both\\ sides\\ (note\\ that\\ this\\ is\\ positive\\ for\\ sure)\\\\\n",
    "|we^{wh+b}| \\geq (1+e^{wh+b})^2\\\\\n",
    "since\\ e^x\\geq 0\\\\\n",
    "|w|e^{wh+b} \\geq (1+e^{wh+b})^2\\\\\n",
    "if\\ w \\geq 0:\\\\\n",
    "By\\ rearranging\\ and\\ merging:\\\\\n",
    "e^{2(wh+b)} + (2-w)e^{wh+b} + 1 \\leq 0\\\\\n",
    "if\\ w < 0:\\\\\n",
    "By\\ rearranging\\ and\\ merging:\\\\\n",
    "e^{2(wh+b)} + (2+w)e^{wh+b} + 1 \\leq 0\\\\\n",
    "Compute\\ w\\geq 0\\ frist\\\\ \n",
    "The\\ root\\ of\\ this\\ equation\\ is:\\\\\n",
    "e^{wh+b} = \\frac {w-2+\\sqrt {w^2-4w}} {2}\\ or\\ \\frac {w-2-\\sqrt {w^2-4w}} {2}\\\\\n",
    "We\\ know\\ that\\ if\\ we\\ want\\ to\\ make\\ this\\ polynomial\\ w.r.t.\\ e^{wh+b}\\ less\\ or\\ equal\\ to\\ zero,\\ e^{wh+b}\\ has\\ to\\ be:\\\\\n",
    "\\frac {w-2-\\sqrt {w^2-4w}} {2} \\leq e^{wh+b} \\leq \\frac {w-2+\\sqrt {w^2-4w}} {2}\\\\\n",
    "By\\ rearranging\\\\\n",
    "\\frac {w}{2} - 1 + \\sqrt {\\frac {w^2}{4}-w}\\leq e^{wh+b} \\leq \\frac {w}{2} - 1 - \\sqrt {\\frac {w^2}{4}-w}\\\\\n",
    "Then\\ taking\\ log\\\\\n",
    "ln(\\frac {w}{2} - 1 + \\sqrt {\\frac {w^2}{4}-w})\\leq wh+b \\leq ln(\\frac {w}{2} - 1 - \\sqrt {\\frac {w^2}{4}-w})\\\\\n",
    "Rearranging\\ to\\ get\\ h:\\\\\n",
    "\\frac {ln(\\frac{w}{2}-1+\\sqrt{\\frac{w^2}{4}-w}) - b}w \\leq h \\leq \\frac{ln(\\frac{w}{2}-1-\\sqrt{\\frac{w^2}{4}-w})-b}{w}\\\\\n",
    "\\end{equation}\n",
    "$$\n",
    "Then we can get the width of h by substracting both sides.\n",
    "$$\n",
    "\\begin{equation}\n",
    "width \\leq \\frac{ln(\\frac{w}{2}-1+\\sqrt{\\frac{w^2}{4}-w})-b}w - \\frac{ln(\\frac{w}{2}-1-\\sqrt{\\frac{w^2}{4}-w})-b}w\\\\\n",
    "width \\leq \\frac{ln(\\frac{w}{2}-1+\\sqrt{\\frac{w^2}{4}-w})-ln(\\frac{w}{2}-1-\\sqrt{\\frac{w^2}{4}-w})}w\\\\\n",
    "width \\leq \\frac 1 w ln\\frac {\\frac{w}{2}-1+\\sqrt{\\frac{w^2}{4}-w}} {\\frac{w}{2}-1-\\sqrt{\\frac{w^2}{4}-w}}\\\\\n",
    "width \\leq \\frac 1 w ln\\frac {(\\frac{w}{2}-1+\\sqrt{\\frac{w^2}{4}-w})^2} {(\\frac{w}{2}-1-\\sqrt{\\frac{w^2}{4}-w})(\\frac{w}{2}-1+\\sqrt{\\frac{w^2}{4}-w})}\\\\\n",
    "width \\leq \\frac 1 w ln\\frac {(\\frac{w}{2}-1+\\sqrt{\\frac{w^2}{4}-w})^2} {(\\frac{w}{2}-1)^2 -(\\sqrt{\\frac{w^2}{4}-w})^2}\\\\\n",
    "width \\leq \\frac 1 w ln\\frac {(\\frac{w}{2}-1+\\sqrt{\\frac{w^2}{4}-w})^2} {(\\frac{w^2}{4}-w+1)-\\frac{w^2}{4}+w}\\\\\n",
    "width \\leq \\frac 1 w ln\\frac {(\\frac{w}{2}-1+\\sqrt{\\frac{w^2}{4}-w})^2} {1}\\\\\n",
    "width \\leq \\frac 1 w ln(\\frac{w}{2}-1+\\sqrt{\\frac{w^2}{4}-w})^2\\\\\n",
    "width \\leq \\frac 2 w ln(\\frac{w}{2}-1+\\sqrt{\\frac{w^2}{4}-w})^2\\\\\n",
    "width \\leq \\frac 2 w ln(\\frac{w}{2}(1+\\sqrt{1-\\frac{4}{w}}) -1)\\\\\n",
    "Since\\ w\\geq 0,\\ this\\ equation\\ is\\ the\\ one\\ we\\ need\\ to\\ prove\\ (w = |w|)\\\\\n",
    "Now\\ we\\ look\\ at\\ w<0:\\\\\n",
    "e^{2(wh+b)} + (2+w)e^{wh+b} + 1 \\leq 0\\\\\n",
    "The\\ root\\ of\\ this\\ equation\\ is:\\\\\n",
    "e^{wh+b} = \\frac {-w-2+\\sqrt {w^2+4w}} {2}\\ or\\ \\frac {-w-2-\\sqrt {w^2+4w}} {2}\\\\\n",
    "We\\ know\\ that\\ if\\ we\\ want\\ to\\ make\\ this\\ polynomial\\ w.r.t.\\ e^{wh+b}\\ less\\ or\\ equal\\ to\\ zero,\\ e^{wh+b}\\ has\\ to\\ be:\\\\\n",
    "\\frac {-w-2-\\sqrt {w^2+4w}} {2} \\leq e^{wh+b} \\leq \\frac {-w-2+\\sqrt {w^2+4w}} {2}\\\\\n",
    "By\\ rearranging\\\\\n",
    "-\\frac {w}{2} - 1 + \\sqrt {\\frac {w^2}{4}+w}\\leq e^{wh+b} \\leq -\\frac {w}{2} - 1 - \\sqrt {\\frac {w^2}{4}+w}\\\\\n",
    "Then\\ taking\\ log\\\\\n",
    "ln(-\\frac {w}{2} - 1 + \\sqrt {\\frac {w^2}{4}+w})\\leq wh+b \\leq ln(-\\frac {w}{2} - 1 - \\sqrt {\\frac {w^2}{4}+w})\\\\\n",
    "Rearranging\\ to\\ get\\ h:\\\\\n",
    "\\frac {ln(-\\frac{w}{2}-1+\\sqrt{\\frac{w^2}{4}+w}) - b}w \\geq h \\geq \\frac{ln(-\\frac{w}{2}-1-\\sqrt{\\frac{w^2}{4}+w})-b}{w}\\\\\n",
    "width \\leq \\frac 1 w (ln(-\\frac{w}{2}-1+\\sqrt{\\frac{w^2}{4}+w}) - ln(-\\frac{w}{2}-1-\\sqrt{\\frac{w^2}{4}+w}))\\\\\n",
    "width \\leq \\frac 1 w ln \\frac {-\\frac{w}{2}-1+\\sqrt{\\frac{w^2}{4}+w}}{-\\frac{w}{2}-1-\\sqrt{\\frac{w^2}{4}+w}}\\\\\n",
    "width \\leq \\frac 1 w ln \\frac {(-\\frac{w}{2}-1+\\sqrt{\\frac{w^2}{4}+w})^2}{(-\\frac{w}{2}-1-\\sqrt{\\frac{w^2}{4}+w})(-\\frac{w}{2}-1+\\sqrt{\\frac{w^2}{4}+w})}\\\\\n",
    "width \\leq \\frac 1 w ln \\frac {(-\\frac{w}{2}-1+\\sqrt{\\frac{w^2}{4}+w})^2} {\\frac {w^{2}}{4}+1+w-\\frac{w^2}{4}-w}\\\\\n",
    "width \\leq \\frac 1 w ln (-\\frac{w}{2}-1+\\sqrt{\\frac{w^2}{4}+w})^2\\\\\n",
    "width \\leq \\frac 2 w ln (-\\frac{w}{2}-1+\\sqrt{\\frac{w^2}{4}+w})\\\\\n",
    "If\\ we\\ want\\ to\\ add\\ absolute\\ value\\ to\\ it\\ while\\ w<0,\\ we\\ will\\ get\\\\\n",
    "width \\leq \\frac {2}{|w|}ln(\\frac{|w|}{2}(1+\\sqrt{1-\\frac{4}{|w|}}) -1)\\\\\n",
    "which\\ is\\ exactly\\ the\\ same\\ as\\ what\\ we\\ need.(achieved\\ by\\ adding\\ a\\ negative\\ sign\\ outside\\ of\\ absolute\\ sign)\\\\\n",
    "\\end{equation}\n",
    "$$"
   ]
  },
  {
   "cell_type": "markdown",
   "metadata": {
    "hidden": true
   },
   "source": [
    "## (c) Plots"
   ]
  },
  {
   "cell_type": "code",
   "execution_count": 3,
   "metadata": {
    "hidden": true
   },
   "outputs": [
    {
     "name": "stdout",
     "output_type": "stream",
     "text": [
      "max value is 0.447741435400141 in -6.909090909090909\n"
     ]
    },
    {
     "data": {
      "image/png": "[encoded data removed]",
      "text/plain": [
       "<Figure size 432x288 with 1 Axes>"
      ]
     },
     "metadata": {
      "needs_background": "light"
     },
     "output_type": "display_data"
    }
   ],
   "source": [
    "\n",
    "a = np.linspace(-10.0, -4.0, 100)\n",
    "d = np.linspace(4.0, 10, 100)\n",
    "e = np.concatenate((a, d), axis=None)\n",
    "b = np.zeros(200)\n",
    "c = 0\n",
    "f = 0\n",
    "p = 0\n",
    "for i in e: \n",
    "    b[c] = (2.0/abs(i))*np.log((abs(i)/2.0)*(1+np.sqrt(1-4.0/abs(i))) -1)\n",
    "    if (b[c] > f):\n",
    "        f = b[c]\n",
    "        p = i\n",
    "    c = c+1\n",
    "plt.plot(a, b[:100])\n",
    "plt.plot(d, b[100:])\n",
    "print(\"max value is \"+str(f) +\" in \" + str(p))"
   ]
  },
  {
   "cell_type": "markdown",
   "metadata": {},
   "source": [
    "# Q2: Dropout"
   ]
  },
  {
   "cell_type": "markdown",
   "metadata": {},
   "source": [
    "## Dataset"
   ]
  },
  {
   "cell_type": "code",
   "execution_count": 4,
   "metadata": {
    "code_folding": []
   },
   "outputs": [],
   "source": [
    "def GenerateDatasets(n):\n",
    "    # 1D -> 1D (line mapping)\n",
    "    n_input = 1\n",
    "    n_output = 1\n",
    "    noise = 0.5\n",
    "\n",
    "    #np.random.seed(452)\n",
    "    a = np.random.rand()/2.\n",
    "    m = np.random.rand() + 0.5\n",
    "    b = np.random.rand()-0.5\n",
    "\n",
    "    def myfunc(x):\n",
    "        return a*x**2 + m*x + b\n",
    "\n",
    "    # Create a training dataset\n",
    "    n_samples = n\n",
    "    training_output = []\n",
    "    training_input = []\n",
    "    xv = np.linspace(-1, 1, n_samples)\n",
    "    for idx in range(n_samples):\n",
    "        #x = np.random.rand()*2. - 1.\n",
    "        x = xv[idx]\n",
    "        t = myfunc(x) + np.random.normal(scale=noise)\n",
    "        training_input.append(np.array([x]))\n",
    "        training_output.append(np.array([t]))\n",
    "\n",
    "    # Create a testing dataset\n",
    "    test_input = []\n",
    "    test_output = []\n",
    "    n_test_samples = 300\n",
    "    xv = np.linspace(-1, 1, n_test_samples)\n",
    "    for idx in range(n_test_samples):\n",
    "        #x = np.random.rand()*2. - 1.\n",
    "        x = xv[idx] #+ np.random.normal(scale=0.1)\n",
    "        t = myfunc(x) + np.random.normal(scale=noise)\n",
    "        test_input.append(np.array([x]))\n",
    "        test_output.append(np.array([t]))\n",
    "\n",
    "\n",
    "    train = [np.array(training_input), np.array(training_output)]\n",
    "    test = [np.array(test_input), np.array(test_output)]\n",
    "    \n",
    "    return train, test"
   ]
  },
  {
   "cell_type": "markdown",
   "metadata": {},
   "source": [
    "## Sample Code"
   ]
  },
  {
   "cell_type": "code",
   "execution_count": 5,
   "metadata": {},
   "outputs": [],
   "source": [
    "# Here is an example, creating a Network object.\n",
    "net = Network.Network(cost='cross-entropy')\n",
    "net.AddLayer(Network.Layer(1))\n",
    "net.AddLayer(Network.Layer(6, act='logistic'))\n",
    "net.AddLayer(Network.Layer(1, act='logistic'))"
   ]
  },
  {
   "cell_type": "code",
   "execution_count": 6,
   "metadata": {},
   "outputs": [],
   "source": [
    "# Generate the training and testing datasets\n",
    "P = 5\n",
    "train, test = GenerateDatasets(P)"
   ]
  },
  {
   "cell_type": "code",
   "execution_count": 7,
   "metadata": {},
   "outputs": [],
   "source": [
    "# Train the network\n",
    "progress = net.SGD(train[0], train[1], epochs=100, lrate=1.)"
   ]
  },
  {
   "cell_type": "code",
   "execution_count": 8,
   "metadata": {},
   "outputs": [
    {
     "name": "stdout",
     "output_type": "stream",
     "text": [
      "Training cost = 1.236610329846814\n",
      "    Test cost = 1.376036860428679\n"
     ]
    }
   ],
   "source": [
    "# Evaluate the cost \n",
    "print('Training cost = '+str(net.Evaluate(train[0], train[1])))\n",
    "print('    Test cost = '+str(net.Evaluate(test[0], test[1])))\n",
    "\n",
    "# These results won't necessarily make sense, since the network model\n",
    "# might not be the right choice for the dataset."
   ]
  },
  {
   "cell_type": "markdown",
   "metadata": {},
   "source": [
    "## 2 (a), (b), 3 (a) Completing the RobustNetwork Class"
   ]
  },
  {
   "cell_type": "code",
   "execution_count": 9,
   "metadata": {},
   "outputs": [],
   "source": [
    "class RobustNetwork(Network.Network):\n",
    "    \n",
    "    def FeedForward(self, x, dropout=0):\n",
    "        '''\n",
    "            y = net.FeedForward(x, dropout=0)\n",
    "\n",
    "            Runs the network forward, starting with x as input.\n",
    "            However, a random subset of the hidden nodes are set to 0 activity.\n",
    "            Returns the activity of the output layer.\n",
    "\n",
    "            Inputs:\n",
    "              x is a batch of inputs\n",
    "              dropout is a probability that a node is dropped, in [0,1]\n",
    "              \n",
    "            Outputs:\n",
    "              y is the batch of outputs (no dropout or the output layer)\n",
    "        '''\n",
    "        if dropout==0.:\n",
    "            self.dropout_nonzero = False  # Internal flag for dropout\n",
    "            super(RobustNetwork, self).FeedForward(x)\n",
    "        else:\n",
    "            self.dropout_nonzero = True   # Internal flag for dropout\n",
    "            \n",
    "            x = np.array(x)  # Convert input to array, in case it's not\n",
    "            \n",
    "            self.lyr[0].h = x # Set input layer\n",
    "            self.mask = []  # mask will record which nodes were dropped\n",
    "            \n",
    "            for i in self.lyr[1:-1]:\n",
    "                tempm = np.random.choice([0,1], i.N, p = [dropout, 1-dropout])\n",
    "                self.mask.append(tempm)  # Input layer does not have dropout\n",
    "            \n",
    "            # Loop over connections\n",
    "            counter = 0\n",
    "            for pre,post,W in zip(self.lyr[:-1], self.lyr[1:], self.W):\n",
    "                if (pre != self.lyr[-2]):\n",
    "                    # Calc. input current to next layer\n",
    "                    post.z = (1/(1-dropout)) * pre.h @ (W*self.mask[counter]) + post.b\n",
    "\n",
    "                    # Use activation function to get activities\n",
    "                    post.h = post.sigma(post.z)\n",
    "                else:\n",
    "                    # Calc. input current to next layer\n",
    "                    post.z = pre.h @ W + post.b\n",
    "\n",
    "                    # Use activation function to get activities\n",
    "                    post.h = post.sigma(post.z)\n",
    "                \n",
    "                \n",
    "                counter += 1\n",
    "                \n",
    "        # Return activity of output layer\n",
    "        return self.lyr[-1].h\n",
    "    \n",
    "    \n",
    "    \n",
    "    def BackProp(self, t, lrate=0.05, decay=0.):\n",
    "        '''\n",
    "            net.BackProp(targets, lrate=0.05)\n",
    "            \n",
    "            Given the current network state and targets t, updates the connection\n",
    "            weights and biases using the backpropagation algorithm.\n",
    "            \n",
    "            Inputs:\n",
    "             t      an array of targets (number of samples must match the\n",
    "                    network's output)\n",
    "             lrate  learning rate\n",
    "             decay  is the coefficient for weight/bias decay\n",
    "        '''\n",
    "        t = np.array(t)  # convert t to an array, in case it's not\n",
    "\n",
    "        # Error gradient for top layer\n",
    "        dEdz = self.TopGradient(t)\n",
    "\n",
    "        # Loop down through the layers\n",
    "        for i in range(self.n_layers-2, -1, -1):\n",
    "            pre = self.lyr[i]\n",
    "#             if (decay!=0):\n",
    "#                 print(pre.h.T @ dEdz)\n",
    "#                 print(2*decay*self.W[i])\n",
    "            # Gradient w.r.t. weights\n",
    "            dEdW = pre.h.T @ dEdz + 2*decay*self.W[i]\n",
    "\n",
    "            # Gradient w.r.t. biases\n",
    "            dEdb = np.sum(dEdz, axis=0) + sum(2*decay*self.lyr[i].b)\n",
    "\n",
    "            # Project error gradient down to layer below.\n",
    "            if i>0:\n",
    "                dEdz = ( dEdz @ self.W[i].T ) * pre.sigma_z_p(pre.z)\n",
    "\n",
    "            # Update weights and biases\n",
    "            self.W[i] -= lrate*dEdW\n",
    "            self.lyr[i+1].b -= lrate*dEdb\n",
    "    \n",
    "    \n",
    "    def SGD(self, inputs, targets, lrate=0.05, epochs=1, batch_size=10, decay=0, dropout=0):\n",
    "        '''\n",
    "            progress = net.SGD(inputs, targets, lrate=0.05, epochs=1, decay=0, dropout=0)\n",
    "\n",
    "            Performs Stochastic Gradient Descent on the network.\n",
    "            Run through the dataset in batches 'epochs' number of times, incrementing the\n",
    "            network weights after each batch. For each epoch, it\n",
    "            shuffles the dataset.\n",
    "\n",
    "            Inputs:\n",
    "              inputs  is an array of input samples\n",
    "              targets is a corresponding array of targets\n",
    "              lrate   is the learning rate (try 0.001 to 5)\n",
    "              epochs  is the number of times to go through the training data\n",
    "              decay   is the decay coefficient for the weights and biases\n",
    "              dropout is the dropout probability\n",
    "              \n",
    "            Outputs:\n",
    "              progress is an (expochs)x2 array with epoch in the first column, and \n",
    "                      cost in the second column\n",
    "        '''\n",
    "        loss_history = []\n",
    "        for k in range(epochs):\n",
    "            batches = Network.MakeBatches(inputs, targets, batch_size=batch_size, shuffle=True)\n",
    "            for mini_batch in batches:\n",
    "                self.FeedForward(mini_batch[0], dropout=dropout)\n",
    "                #print(\"decay: \" + str(decay))\n",
    "                self.BackProp(mini_batch[1], decay=decay)\n",
    "\n",
    "            loss_history.append([k, self.Evaluate(inputs, targets)])\n",
    "\n",
    "        return np.array(loss_history)\n"
   ]
  },
  {
   "cell_type": "markdown",
   "metadata": {},
   "source": [
    "## (c) Create the Network"
   ]
  },
  {
   "cell_type": "code",
   "execution_count": 10,
   "metadata": {},
   "outputs": [],
   "source": [
    "original_net = RobustNetwork(cost='MSE')\n",
    "inputlayer = Network.Layer(1)\n",
    "hiddenlayer = Network.Layer(10, act='arctan')\n",
    "outputlayer = Network.Layer(1, act='identity')\n",
    "original_net.AddLayer(inputlayer)\n",
    "original_net.AddLayer(hiddenlayer)\n",
    "original_net.AddLayer(outputlayer)\n",
    "dropout_net = copy.deepcopy(original_net)"
   ]
  },
  {
   "cell_type": "markdown",
   "metadata": {},
   "source": [
    "## (d) Train and Evaluate without dropout"
   ]
  },
  {
   "cell_type": "code",
   "execution_count": 11,
   "metadata": {},
   "outputs": [
    {
     "name": "stdout",
     "output_type": "stream",
     "text": [
      "Training cost = 0.0005253829781284123\n",
      "    Test cost = 0.47133470133629013\n"
     ]
    }
   ],
   "source": [
    "train, test = GenerateDatasets(5)\n",
    "Loss_hist = original_net.SGD(train[0], train[1], epochs=5000, lrate=1., batch_size=5 ,dropout=0)\n",
    "print('Training cost = '+str(original_net.Evaluate(train[0], train[1])))\n",
    "print('    Test cost = '+str(original_net.Evaluate(test[0], test[1])))"
   ]
  },
  {
   "cell_type": "markdown",
   "metadata": {},
   "source": [
    "## (e) Train and Evaluate with dropout"
   ]
  },
  {
   "cell_type": "code",
   "execution_count": 12,
   "metadata": {},
   "outputs": [
    {
     "name": "stdout",
     "output_type": "stream",
     "text": [
      "Training cost = 0.10364687994568893\n",
      "    Test cost = 0.5512616022207205\n"
     ]
    }
   ],
   "source": [
    "Loss_hist2 = dropout_net.SGD(train[0], train[1], epochs=5000, lrate=1., batch_size=5 ,dropout=0.2)\n",
    "print('Training cost = '+str(dropout_net.Evaluate(train[0], train[1])))\n",
    "print('    Test cost = '+str(dropout_net.Evaluate(test[0], test[1])))"
   ]
  },
  {
   "cell_type": "markdown",
   "metadata": {},
   "source": [
    "## (f) Plot training data and models"
   ]
  },
  {
   "cell_type": "code",
   "execution_count": 13,
   "metadata": {},
   "outputs": [
    {
     "data": {
      "image/png": "[encoded data removed]",
      "text/plain": [
       "<Figure size 432x288 with 1 Axes>"
      ]
     },
     "metadata": {
      "needs_background": "light"
     },
     "output_type": "display_data"
    },
    {
     "data": {
      "image/png": "[encoded data removed]",
      "text/plain": [
       "<Figure size 432x288 with 1 Axes>"
      ]
     },
     "metadata": {
      "needs_background": "light"
     },
     "output_type": "display_data"
    },
    {
     "data": {
      "image/png": "[encoded data removed]",
      "text/plain": [
       "<Figure size 432x288 with 1 Axes>"
      ]
     },
     "metadata": {
      "needs_background": "light"
     },
     "output_type": "display_data"
    },
    {
     "data": {
      "image/png": "[encoded data removed]",
      "text/plain": [
       "<Figure size 432x288 with 1 Axes>"
      ]
     },
     "metadata": {
      "needs_background": "light"
     },
     "output_type": "display_data"
    }
   ],
   "source": [
    "plt.scatter(train[0], train[1], color = 'blue')\n",
    "plt.scatter(test[0], test[1], color = 'yellow')\n",
    "plt.xlabel(\"inputs\")\n",
    "plt.ylabel(\"targets\")\n",
    "plt.show()\n",
    "\n",
    "\n",
    "x = original_net.FeedForward(test[0])\n",
    "x2 = dropout_net.FeedForward(test[0])\n",
    "plt.plot(test[0], x, 'r--', label = 'No dropout')\n",
    "plt.plot(test[0], x2, 'y--', label = 'With dropout')\n",
    "plt.xlabel(\"test input\")\n",
    "plt.ylabel(\"test output\")\n",
    "plt.show()\n",
    "# plt.plot(train[0], train[1], color = 'blue')\n",
    "# plt.plot(test[0], test[1], color = 'yellow')\n",
    "# plt.show()\n",
    "a = []\n",
    "for i in range(5000):\n",
    "    a.append(Loss_hist[i][1])\n",
    "#print(a)\n",
    "#print(list(range(5000)))\n",
    "plt.plot(list(range(50)), a[:50])\n",
    "plt.xlabel(\"First 50 epochs\")\n",
    "plt.ylabel(\"Loss function value\")\n",
    "plt.show()\n",
    "plt.plot(list(range(5000)), a)\n",
    "plt.xlabel(\"Overall epoch\")\n",
    "plt.ylabel(\"Loss function value\")\n",
    "plt.show()"
   ]
  },
  {
   "cell_type": "markdown",
   "metadata": {},
   "source": [
    "## (g) Average performance over 10 datasets"
   ]
  },
  {
   "cell_type": "code",
   "execution_count": 14,
   "metadata": {},
   "outputs": [
    {
     "name": "stdout",
     "output_type": "stream",
     "text": [
      "loop1\n",
      "    Test cost without dropout = 0.8222726985834519\n",
      "    Test cost with dropout= 0.8166842086199401\n",
      "loop2\n",
      "    Test cost without dropout = 0.4562296523683209\n",
      "    Test cost with dropout= 0.29579788867439605\n",
      "loop3\n",
      "    Test cost without dropout = 0.37943711024307303\n",
      "    Test cost with dropout= 0.29631958378311796\n",
      "loop4\n",
      "    Test cost without dropout = 0.49676491495144326\n",
      "    Test cost with dropout= 0.3672195030376701\n",
      "loop5\n",
      "    Test cost without dropout = 0.29339141909996896\n",
      "    Test cost with dropout= 0.31448690860270556\n",
      "loop6\n",
      "    Test cost without dropout = 0.642692472357246\n",
      "    Test cost with dropout= 0.5679821764349121\n",
      "loop7\n",
      "    Test cost without dropout = 0.4768389143128254\n",
      "    Test cost with dropout= 0.36395839445684647\n",
      "loop8\n",
      "    Test cost without dropout = 0.3314203896773955\n",
      "    Test cost with dropout= 0.318467601836472\n",
      "loop9\n",
      "    Test cost without dropout = 0.39504041366351794\n",
      "    Test cost with dropout= 0.4185711039029771\n",
      "loop10\n",
      "    Test cost without dropout = 0.589133013482294\n",
      "    Test cost with dropout= 0.4363821102332939\n",
      "nodrop0.4883220998739536\n",
      "drop0.41958694795823315\n"
     ]
    }
   ],
   "source": [
    "nodrop = 0\n",
    "drop = 0\n",
    "for i in range(10):\n",
    "    original_net1 = RobustNetwork(cost='MSE')\n",
    "    inputlayer1 = Network.Layer(1)\n",
    "    hiddenlayer1 = Network.Layer(10, act='arctan')\n",
    "    outputlayer1 = Network.Layer(1, act='identity')\n",
    "    original_net1.AddLayer(inputlayer1)\n",
    "    original_net1.AddLayer(hiddenlayer1)\n",
    "    original_net1.AddLayer(outputlayer1)\n",
    "    dropout_net1 = copy.deepcopy(original_net1)\n",
    "    \n",
    "    train2, test2 = GenerateDatasets(5)\n",
    "    Loss_hist3 = original_net1.SGD(train2[0], train2[1], epochs=5000, lrate=1., batch_size=5 ,dropout=0)\n",
    "    print(\"loop\" + str(i+1))\n",
    "    #print('Training cost = '+str(original_net1.Evaluate(train2[0], train2[1])))\n",
    "    nodrop += original_net1.Evaluate(test2[0], test2[1])\n",
    "    print('    Test cost without dropout = '+str(original_net1.Evaluate(test2[0], test2[1])))\n",
    "    \n",
    "    Loss_hist4 = dropout_net1.SGD(train2[0], train2[1], epochs=5000, lrate=1., batch_size=5 ,dropout=0.2)\n",
    "    #print('Training cost = '+str(dropout_net1.Evaluate(train2[0], train2[1])))\n",
    "    print('    Test cost with dropout= '+str(dropout_net1.Evaluate(test2[0], test2[1])))\n",
    "    drop += dropout_net1.Evaluate(test2[0], test2[1])\n",
    "nodrop = nodrop/10\n",
    "drop = drop/10\n",
    "print(\"nodrop\" + str(nodrop))\n",
    "print(\"drop\" + str(drop))"
   ]
  },
  {
   "cell_type": "markdown",
   "metadata": {},
   "source": [
    "We can see that the method using dropout is preferred holding less test costs. Because the dropout idea reduces the overfitting w.r.t. the training set, which makes the model more general to all data. That's why test set's error is smaller.\n",
    "In details, according to the nodes: \"It's akin to training a bunch of different networks and combining their answers. Each diminished network is like a contributor to this consensus strategy. Dropout disallows sensitivity to particular combinations of nodes. Instead, the network has to seek a solution that is robust to loss of nodes\" (Jeff Orchard, 2019)"
   ]
  },
  {
   "cell_type": "markdown",
   "metadata": {},
   "source": [
    "# Q3: Weight Decay"
   ]
  },
  {
   "cell_type": "markdown",
   "metadata": {},
   "source": [
    "## (a) Implement weigth decay in BackProp (see code above)"
   ]
  },
  {
   "cell_type": "markdown",
   "metadata": {},
   "source": [
    "## (b) Average performance over 10 datasets"
   ]
  },
  {
   "cell_type": "code",
   "execution_count": 15,
   "metadata": {},
   "outputs": [
    {
     "name": "stdout",
     "output_type": "stream",
     "text": [
      "loop1\n",
      "    Test cost without decay = 0.3228490710734205\n",
      "    Test cost with decay= 0.3108099484838305\n",
      "loop2\n",
      "    Test cost without decay = 0.3562467457984956\n",
      "    Test cost with decay= 0.33680692979262944\n",
      "loop3\n",
      "    Test cost without decay = 0.44314843051576325\n",
      "    Test cost with decay= 0.4493440399749838\n",
      "loop4\n",
      "    Test cost without decay = 0.40025398839734383\n",
      "    Test cost with decay= 0.39804665161124725\n",
      "loop5\n",
      "    Test cost without decay = 0.24315620570145177\n",
      "    Test cost with decay= 0.2428998411105029\n",
      "loop6\n",
      "    Test cost without decay = 0.3287160516641361\n",
      "    Test cost with decay= 0.3318952984900192\n",
      "loop7\n",
      "    Test cost without decay = 0.3669500904634844\n",
      "    Test cost with decay= 0.33050148140847674\n",
      "loop8\n",
      "    Test cost without decay = 0.3483911642099362\n",
      "    Test cost with decay= 0.3436225933618826\n",
      "loop9\n",
      "    Test cost without decay = 0.4176734007931993\n",
      "    Test cost with decay= 0.3704856652218935\n",
      "loop10\n",
      "    Test cost without decay = 0.3330585387111748\n",
      "    Test cost with decay= 0.3119023807080282\n",
      "nodecay: 0.35604436873284057\n",
      "withdecay: 0.3426314830163494\n"
     ]
    }
   ],
   "source": [
    "nodrop1 = 0\n",
    "drop1 = 0\n",
    "for i in range(10):\n",
    "    original_net2 = RobustNetwork(cost='MSE')\n",
    "    inputlayer2 = Network.Layer(1)\n",
    "    hiddenlayer2 = Network.Layer(10, act='arctan')\n",
    "    outputlayer2 = Network.Layer(1, act='identity')\n",
    "    original_net2.AddLayer(inputlayer2)\n",
    "    original_net2.AddLayer(hiddenlayer2)\n",
    "    original_net2.AddLayer(outputlayer2)\n",
    "    decay_net = copy.deepcopy(original_net2)\n",
    "    \n",
    "    train3, test3 = GenerateDatasets(5)\n",
    "    Loss_hist4 = original_net2.SGD(train3[0], train3[1], epochs=5000, lrate=1., batch_size=5, dropout=0)\n",
    "    print(\"loop\" + str(i+1))\n",
    "    #print('Training cost = '+str(original_net1.Evaluate(train2[0], train2[1])))\n",
    "    nodrop1 += original_net2.Evaluate(test3[0], test3[1])\n",
    "    print('    Test cost without decay = '+str(original_net2.Evaluate(test3[0], test3[1])))\n",
    "    \n",
    "    Loss_hist4 = decay_net.SGD(train3[0], train3[1], epochs=5000, lrate=1., batch_size=5, decay=0.0004, dropout=0)\n",
    "    #print('Training cost = '+str(dropout_net1.Evaluate(train2[0], train2[1])))\n",
    "    print('    Test cost with decay= '+str(decay_net.Evaluate(test3[0], test3[1])))\n",
    "    drop1 += decay_net.Evaluate(test3[0], test3[1])\n",
    "nodrop1 = nodrop1/10\n",
    "drop1 = drop1/10\n",
    "print(\"nodecay: \" + str(nodrop1))\n",
    "print(\"withdecay: \" + str(drop1))"
   ]
  },
  {
   "cell_type": "markdown",
   "metadata": {},
   "source": [
    "With decay is preferred because of the same reason as using dropout. Avoid overfitting and generalizing model."
   ]
  },
  {
   "cell_type": "markdown",
   "metadata": {},
   "source": [
    "# Q4: Classifier Networks"
   ]
  },
  {
   "cell_type": "markdown",
   "metadata": {},
   "source": [
    "## Create and interesting dataset"
   ]
  },
  {
   "cell_type": "code",
   "execution_count": 16,
   "metadata": {
    "code_folding": [
     18
    ]
   },
   "outputs": [],
   "source": [
    "def ClassPlot(x, y):\n",
    "    # FeedForward\n",
    "    yc = Network.OneHot(y)\n",
    "    colour_options = ['y', 'b', 'r', 'g', 'k']\n",
    "    cidx = np.argmax(yc, axis=1)\n",
    "    colours = [colour_options[k] for k in cidx]\n",
    "    plt.scatter(x[:,0],x[:,1], color=colours, marker='.')\n",
    "    plt.axis('equal');\n",
    "\n",
    "def GaussianCluster(mu, sa, N, theta=0.):\n",
    "    theta_rad = theta/180*np.pi\n",
    "    c, s = np.cos(theta_rad), np.sin(theta_rad)\n",
    "    R = np.array([[c,-s],[s,c]])\n",
    "    M = R @ np.diag(sa) @ R.T\n",
    "    y = np.random.multivariate_normal(mu, M, N)\n",
    "    return y\n",
    "\n",
    "def CreateDataset(params):\n",
    "    '''\n",
    "        train, test = CreateDataset(params)\n",
    "        \n",
    "        Creates a dataset using a bunch of Gaussian clouds.\n",
    "        \n",
    "        Inputs:\n",
    "          params is a list of 5-tuples. Each tuple (or list)\n",
    "             describes a 2-D Gaussian cloud:\n",
    "             1) the mean\n",
    "             2) standard deviation along x and y directions\n",
    "             3) rotation of cloud (degrees counter-clockwise)\n",
    "             4) class index\n",
    "             5) number of points\n",
    "             \n",
    "        Outputs:\n",
    "          train is a list containing 2 arrays\n",
    "             - the first array contains the training inputs,\n",
    "               one per row\n",
    "             - the second array contains the corresponding classes\n",
    "          test has the same structure as train, but with\n",
    "               half the number of samples\n",
    "    '''\n",
    "    train_inputs = []\n",
    "    train_outputs = []\n",
    "    test_inputs = []\n",
    "    test_outputs = []\n",
    "    all_c = [p[3] for p in params]\n",
    "    n_classes = np.max(all_c)\n",
    "    for p in params:\n",
    "        xx = GaussianCluster(p[0], p[1], p[4], theta=p[2])\n",
    "        yy = np.zeros((p[4], n_classes+1))\n",
    "        yy[:,p[3]] = 1.\n",
    "        train_inputs.append(xx)\n",
    "        train_outputs.append(yy)\n",
    "        \n",
    "        xtest = GaussianCluster(p[0], p[1], int(p[4]/2), theta=p[2])\n",
    "        ytest = np.zeros((int(p[4]/2), n_classes+1))\n",
    "        ytest[:,p[3]] = 1. \n",
    "        test_inputs.append(xtest)\n",
    "        test_outputs.append(ytest)\n",
    "    train = [np.vstack(train_inputs), np.vstack(train_outputs)]\n",
    "    test = [np.vstack(test_inputs), np.vstack(test_outputs)]\n",
    "    return train, test\n",
    "\n",
    "# 0=y, 1=b, 2=r\n",
    "params = [[[0.5, 0.5],   [0.025, 0.01],  -45, 0, 50],\n",
    "          [[-0.5,-0.5],  [0.025, 0.01],  -45, 0, 50],\n",
    "          [[-0.3,-0.35], [0.04,0.01],     10, 0, 80],\n",
    "          [[0.6,0],      [0.01,0.01],      0, 0, 50],\n",
    "          [[0.1,-0.04],  [0.1,0.005],     20, 0, 80],\n",
    "          [[0.5,-0.5],   [0.02,0.01],     45, 1, 50],\n",
    "          [[0,0.6],      [0.01,0.01],      0, 1, 50],\n",
    "          [[-0.5,0.1],   [0.02,0.01],     30, 1, 80],\n",
    "          [[-0.5,0.5],   [0.02,0.01],     45, 2, 50],\n",
    "          [[0,-0.6],     [0.01,0.01],      0, 2, 50],\n",
    "          [[0.2,0.3],    [0.01,0.004],     0, 2, 80],\n",
    "          [[-0.2,0.37],  [0.02,0.005],   -30, 2, 50],\n",
    "          [[0.25,-0.3],  [0.005,0.01],     0, 3, 60],\n",
    "          [[-0.1,0.1],   [0.01,0.01],    -30, 3, 50]\n",
    "         ]"
   ]
  },
  {
   "cell_type": "code",
   "execution_count": 17,
   "metadata": {},
   "outputs": [],
   "source": [
    "train, test = CreateDataset(params)"
   ]
  },
  {
   "cell_type": "code",
   "execution_count": 18,
   "metadata": {},
   "outputs": [
    {
     "data": {
      "image/png": "[encoded data removed]",
      "text/plain": [
       "<Figure size 432x288 with 1 Axes>"
      ]
     },
     "metadata": {
      "needs_background": "light"
     },
     "output_type": "display_data"
    }
   ],
   "source": [
    "ClassPlot(train[0], train[1]);"
   ]
  },
  {
   "cell_type": "markdown",
   "metadata": {},
   "source": [
    "## (a) Create and Evaluate a Neural Network"
   ]
  },
  {
   "cell_type": "code",
   "execution_count": 22,
   "metadata": {},
   "outputs": [
    {
     "name": "stdout",
     "output_type": "stream",
     "text": [
      "Classification accuracy is: 0.9012048192771085\n"
     ]
    }
   ],
   "source": [
    "import Network as Network\n",
    "net = RobustNetwork(cost = 'categorical-cross-entropy')\n",
    "inputl = Network.Layer(2)\n",
    "hiddenl = Network.Layer(5, act='logistic')\n",
    "hidden2 = Network.Layer(5, act='tanh')\n",
    "outputl = Network.Layer(4, act='softmax')\n",
    "net.AddLayer(inputl)\n",
    "net.AddLayer(hiddenl)\n",
    "net.AddLayer(hidden2)\n",
    "net.AddLayer(outputl)\n",
    "progress = net.SGD(train[0], train[1], epochs=400, lrate=0.5)\n",
    "output = net.FeedForward(test[0])\n",
    "Acc = Network.ClassificationAccuracy(output, test[1])\n",
    "print(\"Classification accuracy is: \"+str(Acc))"
   ]
  },
  {
   "cell_type": "markdown",
   "metadata": {},
   "source": [
    "## (b) Evaluate Model"
   ]
  },
  {
   "cell_type": "code",
   "execution_count": 21,
   "metadata": {},
   "outputs": [
    {
     "name": "stdout",
     "output_type": "stream",
     "text": [
      "Classification accuracy is: 0.9349397590361446\n"
     ]
    },
    {
     "data": {
      "image/png": "[encoded data removed]",
      "text/plain": [
       "<Figure size 432x288 with 1 Axes>"
      ]
     },
     "metadata": {
      "needs_background": "light"
     },
     "output_type": "display_data"
    }
   ],
   "source": [
    "output = net.FeedForward(test[0])\n",
    "print(\"Classification accuracy is: \"+str(Network.ClassificationAccuracy(output, test[1])))\n",
    "ClassPlot(test[0], output)"
   ]
  },
  {
   "cell_type": "markdown",
   "metadata": {},
   "source": [
    "## (c) Crappy Network"
   ]
  },
  {
   "cell_type": "code",
   "execution_count": 25,
   "metadata": {},
   "outputs": [
    {
     "name": "stdout",
     "output_type": "stream",
     "text": [
      "Classification accuracy is: 0.8265060240963855\n"
     ]
    }
   ],
   "source": [
    "import Network as Network\n",
    "\n",
    "net = RobustNetwork()\n",
    "inputl = Network.Layer(2)\n",
    "hiddenl = Network.Layer(3, act='tanh')\n",
    "hidden2 = Network.Layer(4, act='tanh')\n",
    "hidden3 = Network.Layer(3, act='identity')\n",
    "outputl = Network.Layer(4, act='logistic')\n",
    "net.AddLayer(inputl)\n",
    "net.AddLayer(hiddenl)\n",
    "net.AddLayer(hidden2)\n",
    "net.AddLayer(hidden3)\n",
    "net.AddLayer(outputl)\n",
    "progress = net.SGD(train[0], train[1], epochs=400, lrate=0.5)\n",
    "output = net.FeedForward(test[0])\n",
    "Acc = Network.ClassificationAccuracy(output, test[1])\n",
    "                   \n",
    "print(\"Classification accuracy is: \"+str(Acc))\n",
    "# print(progress)"
   ]
  },
  {
   "cell_type": "code",
   "execution_count": null,
   "metadata": {},
   "outputs": [],
   "source": []
  }
 ],
 "metadata": {
  "kernelspec": {
   "display_name": "Python 3",
   "language": "python",
   "name": "python3"
  },
  "language_info": {
   "codemirror_mode": {
    "name": "ipython",
    "version": 3
   },
   "file_extension": ".py",
   "mimetype": "text/x-python",
   "name": "python",
   "nbconvert_exporter": "python",
   "pygments_lexer": "ipython3",
   "version": "3.7.1"
  },
  "toc": {
   "nav_menu": {},
   "number_sections": true,
   "sideBar": true,
   "skip_h1_title": false,
   "title_cell": "Table of Contents",
   "title_sidebar": "Contents",
   "toc_cell": false,
   "toc_position": {},
   "toc_section_display": true,
   "toc_window_display": false
  }
 },
 "nbformat": 4,
 "nbformat_minor": 2
}
